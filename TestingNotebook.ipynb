{
 "metadata": {
  "language_info": {
   "codemirror_mode": {
    "name": "ipython",
    "version": 3
   },
   "file_extension": ".py",
   "mimetype": "text/x-python",
   "name": "python",
   "nbconvert_exporter": "python",
   "pygments_lexer": "ipython3",
   "version": "3.7.6-final"
  },
  "orig_nbformat": 2,
  "kernelspec": {
   "name": "python3",
   "display_name": "Python 3",
   "language": "python"
  }
 },
 "nbformat": 4,
 "nbformat_minor": 2,
 "cells": [
  {
   "source": [
    "Intent for this file is to have an interactive environemnt to test functions and methods so that they work before we integrate them"
   ],
   "cell_type": "markdown",
   "metadata": {}
  },
  {
   "cell_type": "code",
   "execution_count": 2,
   "metadata": {},
   "outputs": [
    {
     "output_type": "stream",
     "name": "stdout",
     "text": [
      "[[0, 0, 0, 0, 0, 0, 0, 0, 0, 0], [0, 0, 0, 0, 0, 0, 0, 0, 0, 0], [0, 0, 0, 0, 0, 0, 0, 0, 0, 0], [0, 0, 0, 0, 0, 0, 0, 0, 0, 0], [0, 0, 0, 0, 0, 0, 0, 0, 0, 0], [0, 0, 0, 0, 0, 0, 0, 0, 0, 0], [0, 0, 0, 0, 0, 0, 0, 0, 0, 0], [0, 0, 0, 0, 0, 0, 0, 0, 0, 0], [0, 0, 0, 0, 0, 0, 0, 0, 0, 0], [0, 0, 0, 0, 0, 0, 0, 0, 0, 0]]\n"
     ]
    },
    {
     "output_type": "error",
     "ename": "NameError",
     "evalue": "name 'thing' is not defined",
     "traceback": [
      "\u001b[1;31m---------------------------------------------------------------------------\u001b[0m",
      "\u001b[1;31mNameError\u001b[0m                                 Traceback (most recent call last)",
      "\u001b[1;32m<ipython-input-2-fd398bcab2ae>\u001b[0m in \u001b[0;36m<module>\u001b[1;34m\u001b[0m\n\u001b[0;32m      3\u001b[0m \u001b[0marray\u001b[0m \u001b[1;33m=\u001b[0m \u001b[1;33m[\u001b[0m\u001b[0mlst\u001b[0m \u001b[1;32mfor\u001b[0m \u001b[0mj\u001b[0m \u001b[1;32min\u001b[0m \u001b[0mrange\u001b[0m\u001b[1;33m(\u001b[0m\u001b[0msize\u001b[0m\u001b[1;33m)\u001b[0m\u001b[1;33m]\u001b[0m\u001b[1;33m\u001b[0m\u001b[1;33m\u001b[0m\u001b[0m\n\u001b[0;32m      4\u001b[0m \u001b[0mprint\u001b[0m\u001b[1;33m(\u001b[0m\u001b[0marray\u001b[0m\u001b[1;33m)\u001b[0m\u001b[1;33m\u001b[0m\u001b[1;33m\u001b[0m\u001b[0m\n\u001b[1;32m----> 5\u001b[1;33m \u001b[0mt\u001b[0m \u001b[1;33m=\u001b[0m \u001b[0mthing\u001b[0m\u001b[1;33m(\u001b[0m\u001b[1;33m)\u001b[0m\u001b[1;33m\u001b[0m\u001b[1;33m\u001b[0m\u001b[0m\n\u001b[0m",
      "\u001b[1;31mNameError\u001b[0m: name 'thing' is not defined"
     ]
    }
   ],
   "source": [
    "\n",
    "size = 10\n",
    "lst=[0 for i in range(size)]\n",
    "array = [lst for j in range(size)]\n",
    "print(array)\n",
    "t = thing()"
   ]
  },
  {
   "cell_type": "code",
   "execution_count": 9,
   "metadata": {},
   "outputs": [
    {
     "output_type": "stream",
     "name": "stdout",
     "text": [
      "RV: \n <scipy.stats._distn_infrastructure.rv_frozen object at 0x000002C381836108>\n"
     ]
    }
   ],
   "source": [
    "from scipy.stats import boltzmann\n",
    "\n",
    "numargs = boltzmann .numargs\n",
    "a,b = 0.2, 0.8\n",
    "rv = boltzmann(a,b)\n",
    "print(\"RV: \\n\", rv)"
   ]
  },
  {
   "cell_type": "code",
   "execution_count": 48,
   "metadata": {},
   "outputs": [
    {
     "output_type": "display_data",
     "data": {
      "text/plain": "<Figure size 432x288 with 1 Axes>",
      "image/svg+xml": "<?xml version=\"1.0\" encoding=\"utf-8\" standalone=\"no\"?>\r\n<!DOCTYPE svg PUBLIC \"-//W3C//DTD SVG 1.1//EN\"\r\n  \"http://www.w3.org/Graphics/SVG/1.1/DTD/svg11.dtd\">\r\n<!-- Created with matplotlib (https://matplotlib.org/) -->\r\n<svg height=\"250.735503pt\" version=\"1.1\" viewBox=\"0 0 372.103125 250.735503\" width=\"372.103125pt\" xmlns=\"http://www.w3.org/2000/svg\" xmlns:xlink=\"http://www.w3.org/1999/xlink\">\r\n <defs>\r\n  <style type=\"text/css\">\r\n*{stroke-linecap:butt;stroke-linejoin:round;}\r\n  </style>\r\n </defs>\r\n <g id=\"figure_1\">\r\n  <g id=\"patch_1\">\r\n   <path d=\"M 0 250.735503 \r\nL 372.103125 250.735503 \r\nL 372.103125 0 \r\nL 0 0 \r\nz\r\n\" style=\"fill:none;\"/>\r\n  </g>\r\n  <g id=\"axes_1\">\r\n   <g id=\"patch_2\">\r\n    <path d=\"M 30.103125 226.857378 \r\nL 364.903125 226.857378 \r\nL 364.903125 9.417378 \r\nL 30.103125 9.417378 \r\nz\r\n\" style=\"fill:#ffffff;\"/>\r\n   </g>\r\n   <g id=\"PathCollection_1\">\r\n    <defs>\r\n     <path d=\"M 0 3 \r\nC 0.795609 3 1.55874 2.683901 2.12132 2.12132 \r\nC 2.683901 1.55874 3 0.795609 3 0 \r\nC 3 -0.795609 2.683901 -1.55874 2.12132 -2.12132 \r\nC 1.55874 -2.683901 0.795609 -3 0 -3 \r\nC -0.795609 -3 -1.55874 -2.683901 -2.12132 -2.12132 \r\nC -2.683901 -1.55874 -3 -0.795609 -3 0 \r\nC -3 0.795609 -2.683901 1.55874 -2.12132 2.12132 \r\nC -1.55874 2.683901 -0.795609 3 0 3 \r\nz\r\n\" id=\"m94fb17431b\" style=\"stroke:#1f77b4;\"/>\r\n    </defs>\r\n    <g clip-path=\"url(#pdb6fab55de)\">\r\n     <use style=\"fill:#1f77b4;stroke:#1f77b4;\" x=\"45.472671\" xlink:href=\"#m94fb17431b\" y=\"22.793055\"/>\r\n     <use style=\"fill:#1f77b4;stroke:#1f77b4;\" x=\"62.364944\" xlink:href=\"#m94fb17431b\" y=\"166.45846\"/>\r\n     <use style=\"fill:#1f77b4;stroke:#1f77b4;\" x=\"79.257217\" xlink:href=\"#m94fb17431b\" y=\"201.885912\"/>\r\n     <use style=\"fill:#1f77b4;stroke:#1f77b4;\" x=\"96.149489\" xlink:href=\"#m94fb17431b\" y=\"210.622215\"/>\r\n     <use style=\"fill:#1f77b4;stroke:#1f77b4;\" x=\"113.041762\" xlink:href=\"#m94fb17431b\" y=\"212.77656\"/>\r\n     <use style=\"fill:#1f77b4;stroke:#1f77b4;\" x=\"129.934034\" xlink:href=\"#m94fb17431b\" y=\"213.307815\"/>\r\n     <use style=\"fill:#1f77b4;stroke:#1f77b4;\" x=\"146.826307\" xlink:href=\"#m94fb17431b\" y=\"213.438821\"/>\r\n     <use style=\"fill:#1f77b4;stroke:#1f77b4;\" x=\"163.71858\" xlink:href=\"#m94fb17431b\" y=\"213.471127\"/>\r\n     <use style=\"fill:#1f77b4;stroke:#1f77b4;\" x=\"180.610852\" xlink:href=\"#m94fb17431b\" y=\"213.479093\"/>\r\n     <use style=\"fill:#1f77b4;stroke:#1f77b4;\" x=\"197.503125\" xlink:href=\"#m94fb17431b\" y=\"213.481058\"/>\r\n     <use style=\"fill:#1f77b4;stroke:#1f77b4;\" x=\"214.395398\" xlink:href=\"#m94fb17431b\" y=\"213.481542\"/>\r\n     <use style=\"fill:#1f77b4;stroke:#1f77b4;\" x=\"231.28767\" xlink:href=\"#m94fb17431b\" y=\"213.481662\"/>\r\n     <use style=\"fill:#1f77b4;stroke:#1f77b4;\" x=\"248.179943\" xlink:href=\"#m94fb17431b\" y=\"213.481691\"/>\r\n     <use style=\"fill:#1f77b4;stroke:#1f77b4;\" x=\"265.072216\" xlink:href=\"#m94fb17431b\" y=\"213.481699\"/>\r\n     <use style=\"fill:#1f77b4;stroke:#1f77b4;\" x=\"281.964488\" xlink:href=\"#m94fb17431b\" y=\"213.4817\"/>\r\n     <use style=\"fill:#1f77b4;stroke:#1f77b4;\" x=\"298.856761\" xlink:href=\"#m94fb17431b\" y=\"213.481701\"/>\r\n     <use style=\"fill:#1f77b4;stroke:#1f77b4;\" x=\"315.749033\" xlink:href=\"#m94fb17431b\" y=\"213.481701\"/>\r\n     <use style=\"fill:#1f77b4;stroke:#1f77b4;\" x=\"332.641306\" xlink:href=\"#m94fb17431b\" y=\"213.481701\"/>\r\n     <use style=\"fill:#1f77b4;stroke:#1f77b4;\" x=\"349.533579\" xlink:href=\"#m94fb17431b\" y=\"213.481701\"/>\r\n    </g>\r\n   </g>\r\n   <g id=\"matplotlib.axis_1\">\r\n    <g id=\"xtick_1\">\r\n     <g id=\"line2d_1\">\r\n      <defs>\r\n       <path d=\"M 0 0 \r\nL 0 3.5 \r\n\" id=\"m4f0abd8c0d\" style=\"stroke:#000000;stroke-width:0.8;\"/>\r\n      </defs>\r\n      <g>\r\n       <use style=\"stroke:#000000;stroke-width:0.8;\" x=\"45.472671\" xlink:href=\"#m4f0abd8c0d\" y=\"226.857378\"/>\r\n      </g>\r\n     </g>\r\n     <g id=\"text_1\">\r\n      <!-- 0.0 -->\r\n      <defs>\r\n       <path d=\"M 31.78125 66.40625 \r\nQ 24.171875 66.40625 20.328125 58.90625 \r\nQ 16.5 51.421875 16.5 36.375 \r\nQ 16.5 21.390625 20.328125 13.890625 \r\nQ 24.171875 6.390625 31.78125 6.390625 \r\nQ 39.453125 6.390625 43.28125 13.890625 \r\nQ 47.125 21.390625 47.125 36.375 \r\nQ 47.125 51.421875 43.28125 58.90625 \r\nQ 39.453125 66.40625 31.78125 66.40625 \r\nz\r\nM 31.78125 74.21875 \r\nQ 44.046875 74.21875 50.515625 64.515625 \r\nQ 56.984375 54.828125 56.984375 36.375 \r\nQ 56.984375 17.96875 50.515625 8.265625 \r\nQ 44.046875 -1.421875 31.78125 -1.421875 \r\nQ 19.53125 -1.421875 13.0625 8.265625 \r\nQ 6.59375 17.96875 6.59375 36.375 \r\nQ 6.59375 54.828125 13.0625 64.515625 \r\nQ 19.53125 74.21875 31.78125 74.21875 \r\nz\r\n\" id=\"DejaVuSans-48\"/>\r\n       <path d=\"M 10.6875 12.40625 \r\nL 21 12.40625 \r\nL 21 0 \r\nL 10.6875 0 \r\nz\r\n\" id=\"DejaVuSans-46\"/>\r\n      </defs>\r\n      <g transform=\"translate(37.521109 241.455815)scale(0.1 -0.1)\">\r\n       <use xlink:href=\"#DejaVuSans-48\"/>\r\n       <use x=\"63.623047\" xlink:href=\"#DejaVuSans-46\"/>\r\n       <use x=\"95.410156\" xlink:href=\"#DejaVuSans-48\"/>\r\n      </g>\r\n     </g>\r\n    </g>\r\n    <g id=\"xtick_2\">\r\n     <g id=\"line2d_2\">\r\n      <g>\r\n       <use style=\"stroke:#000000;stroke-width:0.8;\" x=\"87.703353\" xlink:href=\"#m4f0abd8c0d\" y=\"226.857378\"/>\r\n      </g>\r\n     </g>\r\n     <g id=\"text_2\">\r\n      <!-- 2.5 -->\r\n      <defs>\r\n       <path d=\"M 19.1875 8.296875 \r\nL 53.609375 8.296875 \r\nL 53.609375 0 \r\nL 7.328125 0 \r\nL 7.328125 8.296875 \r\nQ 12.9375 14.109375 22.625 23.890625 \r\nQ 32.328125 33.6875 34.8125 36.53125 \r\nQ 39.546875 41.84375 41.421875 45.53125 \r\nQ 43.3125 49.21875 43.3125 52.78125 \r\nQ 43.3125 58.59375 39.234375 62.25 \r\nQ 35.15625 65.921875 28.609375 65.921875 \r\nQ 23.96875 65.921875 18.8125 64.3125 \r\nQ 13.671875 62.703125 7.8125 59.421875 \r\nL 7.8125 69.390625 \r\nQ 13.765625 71.78125 18.9375 73 \r\nQ 24.125 74.21875 28.421875 74.21875 \r\nQ 39.75 74.21875 46.484375 68.546875 \r\nQ 53.21875 62.890625 53.21875 53.421875 \r\nQ 53.21875 48.921875 51.53125 44.890625 \r\nQ 49.859375 40.875 45.40625 35.40625 \r\nQ 44.1875 33.984375 37.640625 27.21875 \r\nQ 31.109375 20.453125 19.1875 8.296875 \r\nz\r\n\" id=\"DejaVuSans-50\"/>\r\n       <path d=\"M 10.796875 72.90625 \r\nL 49.515625 72.90625 \r\nL 49.515625 64.59375 \r\nL 19.828125 64.59375 \r\nL 19.828125 46.734375 \r\nQ 21.96875 47.46875 24.109375 47.828125 \r\nQ 26.265625 48.1875 28.421875 48.1875 \r\nQ 40.625 48.1875 47.75 41.5 \r\nQ 54.890625 34.8125 54.890625 23.390625 \r\nQ 54.890625 11.625 47.5625 5.09375 \r\nQ 40.234375 -1.421875 26.90625 -1.421875 \r\nQ 22.3125 -1.421875 17.546875 -0.640625 \r\nQ 12.796875 0.140625 7.71875 1.703125 \r\nL 7.71875 11.625 \r\nQ 12.109375 9.234375 16.796875 8.0625 \r\nQ 21.484375 6.890625 26.703125 6.890625 \r\nQ 35.15625 6.890625 40.078125 11.328125 \r\nQ 45.015625 15.765625 45.015625 23.390625 \r\nQ 45.015625 31 40.078125 35.4375 \r\nQ 35.15625 39.890625 26.703125 39.890625 \r\nQ 22.75 39.890625 18.8125 39.015625 \r\nQ 14.890625 38.140625 10.796875 36.28125 \r\nz\r\n\" id=\"DejaVuSans-53\"/>\r\n      </defs>\r\n      <g transform=\"translate(79.75179 241.455815)scale(0.1 -0.1)\">\r\n       <use xlink:href=\"#DejaVuSans-50\"/>\r\n       <use x=\"63.623047\" xlink:href=\"#DejaVuSans-46\"/>\r\n       <use x=\"95.410156\" xlink:href=\"#DejaVuSans-53\"/>\r\n      </g>\r\n     </g>\r\n    </g>\r\n    <g id=\"xtick_3\">\r\n     <g id=\"line2d_3\">\r\n      <g>\r\n       <use style=\"stroke:#000000;stroke-width:0.8;\" x=\"129.934034\" xlink:href=\"#m4f0abd8c0d\" y=\"226.857378\"/>\r\n      </g>\r\n     </g>\r\n     <g id=\"text_3\">\r\n      <!-- 5.0 -->\r\n      <g transform=\"translate(121.982472 241.455815)scale(0.1 -0.1)\">\r\n       <use xlink:href=\"#DejaVuSans-53\"/>\r\n       <use x=\"63.623047\" xlink:href=\"#DejaVuSans-46\"/>\r\n       <use x=\"95.410156\" xlink:href=\"#DejaVuSans-48\"/>\r\n      </g>\r\n     </g>\r\n    </g>\r\n    <g id=\"xtick_4\">\r\n     <g id=\"line2d_4\">\r\n      <g>\r\n       <use style=\"stroke:#000000;stroke-width:0.8;\" x=\"172.164716\" xlink:href=\"#m4f0abd8c0d\" y=\"226.857378\"/>\r\n      </g>\r\n     </g>\r\n     <g id=\"text_4\">\r\n      <!-- 7.5 -->\r\n      <defs>\r\n       <path d=\"M 8.203125 72.90625 \r\nL 55.078125 72.90625 \r\nL 55.078125 68.703125 \r\nL 28.609375 0 \r\nL 18.3125 0 \r\nL 43.21875 64.59375 \r\nL 8.203125 64.59375 \r\nz\r\n\" id=\"DejaVuSans-55\"/>\r\n      </defs>\r\n      <g transform=\"translate(164.213154 241.455815)scale(0.1 -0.1)\">\r\n       <use xlink:href=\"#DejaVuSans-55\"/>\r\n       <use x=\"63.623047\" xlink:href=\"#DejaVuSans-46\"/>\r\n       <use x=\"95.410156\" xlink:href=\"#DejaVuSans-53\"/>\r\n      </g>\r\n     </g>\r\n    </g>\r\n    <g id=\"xtick_5\">\r\n     <g id=\"line2d_5\">\r\n      <g>\r\n       <use style=\"stroke:#000000;stroke-width:0.8;\" x=\"214.395398\" xlink:href=\"#m4f0abd8c0d\" y=\"226.857378\"/>\r\n      </g>\r\n     </g>\r\n     <g id=\"text_5\">\r\n      <!-- 10.0 -->\r\n      <defs>\r\n       <path d=\"M 12.40625 8.296875 \r\nL 28.515625 8.296875 \r\nL 28.515625 63.921875 \r\nL 10.984375 60.40625 \r\nL 10.984375 69.390625 \r\nL 28.421875 72.90625 \r\nL 38.28125 72.90625 \r\nL 38.28125 8.296875 \r\nL 54.390625 8.296875 \r\nL 54.390625 0 \r\nL 12.40625 0 \r\nz\r\n\" id=\"DejaVuSans-49\"/>\r\n      </defs>\r\n      <g transform=\"translate(203.262585 241.455815)scale(0.1 -0.1)\">\r\n       <use xlink:href=\"#DejaVuSans-49\"/>\r\n       <use x=\"63.623047\" xlink:href=\"#DejaVuSans-48\"/>\r\n       <use x=\"127.246094\" xlink:href=\"#DejaVuSans-46\"/>\r\n       <use x=\"159.033203\" xlink:href=\"#DejaVuSans-48\"/>\r\n      </g>\r\n     </g>\r\n    </g>\r\n    <g id=\"xtick_6\">\r\n     <g id=\"line2d_6\">\r\n      <g>\r\n       <use style=\"stroke:#000000;stroke-width:0.8;\" x=\"256.626079\" xlink:href=\"#m4f0abd8c0d\" y=\"226.857378\"/>\r\n      </g>\r\n     </g>\r\n     <g id=\"text_6\">\r\n      <!-- 12.5 -->\r\n      <g transform=\"translate(245.493267 241.455815)scale(0.1 -0.1)\">\r\n       <use xlink:href=\"#DejaVuSans-49\"/>\r\n       <use x=\"63.623047\" xlink:href=\"#DejaVuSans-50\"/>\r\n       <use x=\"127.246094\" xlink:href=\"#DejaVuSans-46\"/>\r\n       <use x=\"159.033203\" xlink:href=\"#DejaVuSans-53\"/>\r\n      </g>\r\n     </g>\r\n    </g>\r\n    <g id=\"xtick_7\">\r\n     <g id=\"line2d_7\">\r\n      <g>\r\n       <use style=\"stroke:#000000;stroke-width:0.8;\" x=\"298.856761\" xlink:href=\"#m4f0abd8c0d\" y=\"226.857378\"/>\r\n      </g>\r\n     </g>\r\n     <g id=\"text_7\">\r\n      <!-- 15.0 -->\r\n      <g transform=\"translate(287.723948 241.455815)scale(0.1 -0.1)\">\r\n       <use xlink:href=\"#DejaVuSans-49\"/>\r\n       <use x=\"63.623047\" xlink:href=\"#DejaVuSans-53\"/>\r\n       <use x=\"127.246094\" xlink:href=\"#DejaVuSans-46\"/>\r\n       <use x=\"159.033203\" xlink:href=\"#DejaVuSans-48\"/>\r\n      </g>\r\n     </g>\r\n    </g>\r\n    <g id=\"xtick_8\">\r\n     <g id=\"line2d_8\">\r\n      <g>\r\n       <use style=\"stroke:#000000;stroke-width:0.8;\" x=\"341.087442\" xlink:href=\"#m4f0abd8c0d\" y=\"226.857378\"/>\r\n      </g>\r\n     </g>\r\n     <g id=\"text_8\">\r\n      <!-- 17.5 -->\r\n      <g transform=\"translate(329.95463 241.455815)scale(0.1 -0.1)\">\r\n       <use xlink:href=\"#DejaVuSans-49\"/>\r\n       <use x=\"63.623047\" xlink:href=\"#DejaVuSans-55\"/>\r\n       <use x=\"127.246094\" xlink:href=\"#DejaVuSans-46\"/>\r\n       <use x=\"159.033203\" xlink:href=\"#DejaVuSans-53\"/>\r\n      </g>\r\n     </g>\r\n    </g>\r\n   </g>\r\n   <g id=\"matplotlib.axis_2\">\r\n    <g id=\"ytick_1\">\r\n     <g id=\"line2d_9\">\r\n      <defs>\r\n       <path d=\"M 0 0 \r\nL -3.5 0 \r\n\" id=\"m19a6541bf4\" style=\"stroke:#000000;stroke-width:0.8;\"/>\r\n      </defs>\r\n      <g>\r\n       <use style=\"stroke:#000000;stroke-width:0.8;\" x=\"30.103125\" xlink:href=\"#m19a6541bf4\" y=\"213.481701\"/>\r\n      </g>\r\n     </g>\r\n     <g id=\"text_9\">\r\n      <!-- 0.0 -->\r\n      <g transform=\"translate(7.2 217.28092)scale(0.1 -0.1)\">\r\n       <use xlink:href=\"#DejaVuSans-48\"/>\r\n       <use x=\"63.623047\" xlink:href=\"#DejaVuSans-46\"/>\r\n       <use x=\"95.410156\" xlink:href=\"#DejaVuSans-48\"/>\r\n      </g>\r\n     </g>\r\n    </g>\r\n    <g id=\"ytick_2\">\r\n     <g id=\"line2d_10\">\r\n      <g>\r\n       <use style=\"stroke:#000000;stroke-width:0.8;\" x=\"30.103125\" xlink:href=\"#m19a6541bf4\" y=\"188.171391\"/>\r\n      </g>\r\n     </g>\r\n     <g id=\"text_10\">\r\n      <!-- 0.1 -->\r\n      <g transform=\"translate(7.2 191.970609)scale(0.1 -0.1)\">\r\n       <use xlink:href=\"#DejaVuSans-48\"/>\r\n       <use x=\"63.623047\" xlink:href=\"#DejaVuSans-46\"/>\r\n       <use x=\"95.410156\" xlink:href=\"#DejaVuSans-49\"/>\r\n      </g>\r\n     </g>\r\n    </g>\r\n    <g id=\"ytick_3\">\r\n     <g id=\"line2d_11\">\r\n      <g>\r\n       <use style=\"stroke:#000000;stroke-width:0.8;\" x=\"30.103125\" xlink:href=\"#m19a6541bf4\" y=\"162.86108\"/>\r\n      </g>\r\n     </g>\r\n     <g id=\"text_11\">\r\n      <!-- 0.2 -->\r\n      <g transform=\"translate(7.2 166.660299)scale(0.1 -0.1)\">\r\n       <use xlink:href=\"#DejaVuSans-48\"/>\r\n       <use x=\"63.623047\" xlink:href=\"#DejaVuSans-46\"/>\r\n       <use x=\"95.410156\" xlink:href=\"#DejaVuSans-50\"/>\r\n      </g>\r\n     </g>\r\n    </g>\r\n    <g id=\"ytick_4\">\r\n     <g id=\"line2d_12\">\r\n      <g>\r\n       <use style=\"stroke:#000000;stroke-width:0.8;\" x=\"30.103125\" xlink:href=\"#m19a6541bf4\" y=\"137.55077\"/>\r\n      </g>\r\n     </g>\r\n     <g id=\"text_12\">\r\n      <!-- 0.3 -->\r\n      <defs>\r\n       <path d=\"M 40.578125 39.3125 \r\nQ 47.65625 37.796875 51.625 33 \r\nQ 55.609375 28.21875 55.609375 21.1875 \r\nQ 55.609375 10.40625 48.1875 4.484375 \r\nQ 40.765625 -1.421875 27.09375 -1.421875 \r\nQ 22.515625 -1.421875 17.65625 -0.515625 \r\nQ 12.796875 0.390625 7.625 2.203125 \r\nL 7.625 11.71875 \r\nQ 11.71875 9.328125 16.59375 8.109375 \r\nQ 21.484375 6.890625 26.8125 6.890625 \r\nQ 36.078125 6.890625 40.9375 10.546875 \r\nQ 45.796875 14.203125 45.796875 21.1875 \r\nQ 45.796875 27.640625 41.28125 31.265625 \r\nQ 36.765625 34.90625 28.71875 34.90625 \r\nL 20.21875 34.90625 \r\nL 20.21875 43.015625 \r\nL 29.109375 43.015625 \r\nQ 36.375 43.015625 40.234375 45.921875 \r\nQ 44.09375 48.828125 44.09375 54.296875 \r\nQ 44.09375 59.90625 40.109375 62.90625 \r\nQ 36.140625 65.921875 28.71875 65.921875 \r\nQ 24.65625 65.921875 20.015625 65.03125 \r\nQ 15.375 64.15625 9.8125 62.3125 \r\nL 9.8125 71.09375 \r\nQ 15.4375 72.65625 20.34375 73.4375 \r\nQ 25.25 74.21875 29.59375 74.21875 \r\nQ 40.828125 74.21875 47.359375 69.109375 \r\nQ 53.90625 64.015625 53.90625 55.328125 \r\nQ 53.90625 49.265625 50.4375 45.09375 \r\nQ 46.96875 40.921875 40.578125 39.3125 \r\nz\r\n\" id=\"DejaVuSans-51\"/>\r\n      </defs>\r\n      <g transform=\"translate(7.2 141.349989)scale(0.1 -0.1)\">\r\n       <use xlink:href=\"#DejaVuSans-48\"/>\r\n       <use x=\"63.623047\" xlink:href=\"#DejaVuSans-46\"/>\r\n       <use x=\"95.410156\" xlink:href=\"#DejaVuSans-51\"/>\r\n      </g>\r\n     </g>\r\n    </g>\r\n    <g id=\"ytick_5\">\r\n     <g id=\"line2d_13\">\r\n      <g>\r\n       <use style=\"stroke:#000000;stroke-width:0.8;\" x=\"30.103125\" xlink:href=\"#m19a6541bf4\" y=\"112.24046\"/>\r\n      </g>\r\n     </g>\r\n     <g id=\"text_13\">\r\n      <!-- 0.4 -->\r\n      <defs>\r\n       <path d=\"M 37.796875 64.3125 \r\nL 12.890625 25.390625 \r\nL 37.796875 25.390625 \r\nz\r\nM 35.203125 72.90625 \r\nL 47.609375 72.90625 \r\nL 47.609375 25.390625 \r\nL 58.015625 25.390625 \r\nL 58.015625 17.1875 \r\nL 47.609375 17.1875 \r\nL 47.609375 0 \r\nL 37.796875 0 \r\nL 37.796875 17.1875 \r\nL 4.890625 17.1875 \r\nL 4.890625 26.703125 \r\nz\r\n\" id=\"DejaVuSans-52\"/>\r\n      </defs>\r\n      <g transform=\"translate(7.2 116.039679)scale(0.1 -0.1)\">\r\n       <use xlink:href=\"#DejaVuSans-48\"/>\r\n       <use x=\"63.623047\" xlink:href=\"#DejaVuSans-46\"/>\r\n       <use x=\"95.410156\" xlink:href=\"#DejaVuSans-52\"/>\r\n      </g>\r\n     </g>\r\n    </g>\r\n    <g id=\"ytick_6\">\r\n     <g id=\"line2d_14\">\r\n      <g>\r\n       <use style=\"stroke:#000000;stroke-width:0.8;\" x=\"30.103125\" xlink:href=\"#m19a6541bf4\" y=\"86.93015\"/>\r\n      </g>\r\n     </g>\r\n     <g id=\"text_14\">\r\n      <!-- 0.5 -->\r\n      <g transform=\"translate(7.2 90.729368)scale(0.1 -0.1)\">\r\n       <use xlink:href=\"#DejaVuSans-48\"/>\r\n       <use x=\"63.623047\" xlink:href=\"#DejaVuSans-46\"/>\r\n       <use x=\"95.410156\" xlink:href=\"#DejaVuSans-53\"/>\r\n      </g>\r\n     </g>\r\n    </g>\r\n    <g id=\"ytick_7\">\r\n     <g id=\"line2d_15\">\r\n      <g>\r\n       <use style=\"stroke:#000000;stroke-width:0.8;\" x=\"30.103125\" xlink:href=\"#m19a6541bf4\" y=\"61.619839\"/>\r\n      </g>\r\n     </g>\r\n     <g id=\"text_15\">\r\n      <!-- 0.6 -->\r\n      <defs>\r\n       <path d=\"M 33.015625 40.375 \r\nQ 26.375 40.375 22.484375 35.828125 \r\nQ 18.609375 31.296875 18.609375 23.390625 \r\nQ 18.609375 15.53125 22.484375 10.953125 \r\nQ 26.375 6.390625 33.015625 6.390625 \r\nQ 39.65625 6.390625 43.53125 10.953125 \r\nQ 47.40625 15.53125 47.40625 23.390625 \r\nQ 47.40625 31.296875 43.53125 35.828125 \r\nQ 39.65625 40.375 33.015625 40.375 \r\nz\r\nM 52.59375 71.296875 \r\nL 52.59375 62.3125 \r\nQ 48.875 64.0625 45.09375 64.984375 \r\nQ 41.3125 65.921875 37.59375 65.921875 \r\nQ 27.828125 65.921875 22.671875 59.328125 \r\nQ 17.53125 52.734375 16.796875 39.40625 \r\nQ 19.671875 43.65625 24.015625 45.921875 \r\nQ 28.375 48.1875 33.59375 48.1875 \r\nQ 44.578125 48.1875 50.953125 41.515625 \r\nQ 57.328125 34.859375 57.328125 23.390625 \r\nQ 57.328125 12.15625 50.6875 5.359375 \r\nQ 44.046875 -1.421875 33.015625 -1.421875 \r\nQ 20.359375 -1.421875 13.671875 8.265625 \r\nQ 6.984375 17.96875 6.984375 36.375 \r\nQ 6.984375 53.65625 15.1875 63.9375 \r\nQ 23.390625 74.21875 37.203125 74.21875 \r\nQ 40.921875 74.21875 44.703125 73.484375 \r\nQ 48.484375 72.75 52.59375 71.296875 \r\nz\r\n\" id=\"DejaVuSans-54\"/>\r\n      </defs>\r\n      <g transform=\"translate(7.2 65.419058)scale(0.1 -0.1)\">\r\n       <use xlink:href=\"#DejaVuSans-48\"/>\r\n       <use x=\"63.623047\" xlink:href=\"#DejaVuSans-46\"/>\r\n       <use x=\"95.410156\" xlink:href=\"#DejaVuSans-54\"/>\r\n      </g>\r\n     </g>\r\n    </g>\r\n    <g id=\"ytick_8\">\r\n     <g id=\"line2d_16\">\r\n      <g>\r\n       <use style=\"stroke:#000000;stroke-width:0.8;\" x=\"30.103125\" xlink:href=\"#m19a6541bf4\" y=\"36.309529\"/>\r\n      </g>\r\n     </g>\r\n     <g id=\"text_16\">\r\n      <!-- 0.7 -->\r\n      <g transform=\"translate(7.2 40.108748)scale(0.1 -0.1)\">\r\n       <use xlink:href=\"#DejaVuSans-48\"/>\r\n       <use x=\"63.623047\" xlink:href=\"#DejaVuSans-46\"/>\r\n       <use x=\"95.410156\" xlink:href=\"#DejaVuSans-55\"/>\r\n      </g>\r\n     </g>\r\n    </g>\r\n    <g id=\"ytick_9\">\r\n     <g id=\"line2d_17\">\r\n      <g>\r\n       <use style=\"stroke:#000000;stroke-width:0.8;\" x=\"30.103125\" xlink:href=\"#m19a6541bf4\" y=\"10.999219\"/>\r\n      </g>\r\n     </g>\r\n     <g id=\"text_17\">\r\n      <!-- 0.8 -->\r\n      <defs>\r\n       <path d=\"M 31.78125 34.625 \r\nQ 24.75 34.625 20.71875 30.859375 \r\nQ 16.703125 27.09375 16.703125 20.515625 \r\nQ 16.703125 13.921875 20.71875 10.15625 \r\nQ 24.75 6.390625 31.78125 6.390625 \r\nQ 38.8125 6.390625 42.859375 10.171875 \r\nQ 46.921875 13.96875 46.921875 20.515625 \r\nQ 46.921875 27.09375 42.890625 30.859375 \r\nQ 38.875 34.625 31.78125 34.625 \r\nz\r\nM 21.921875 38.8125 \r\nQ 15.578125 40.375 12.03125 44.71875 \r\nQ 8.5 49.078125 8.5 55.328125 \r\nQ 8.5 64.0625 14.71875 69.140625 \r\nQ 20.953125 74.21875 31.78125 74.21875 \r\nQ 42.671875 74.21875 48.875 69.140625 \r\nQ 55.078125 64.0625 55.078125 55.328125 \r\nQ 55.078125 49.078125 51.53125 44.71875 \r\nQ 48 40.375 41.703125 38.8125 \r\nQ 48.828125 37.15625 52.796875 32.3125 \r\nQ 56.78125 27.484375 56.78125 20.515625 \r\nQ 56.78125 9.90625 50.3125 4.234375 \r\nQ 43.84375 -1.421875 31.78125 -1.421875 \r\nQ 19.734375 -1.421875 13.25 4.234375 \r\nQ 6.78125 9.90625 6.78125 20.515625 \r\nQ 6.78125 27.484375 10.78125 32.3125 \r\nQ 14.796875 37.15625 21.921875 38.8125 \r\nz\r\nM 18.3125 54.390625 \r\nQ 18.3125 48.734375 21.84375 45.5625 \r\nQ 25.390625 42.390625 31.78125 42.390625 \r\nQ 38.140625 42.390625 41.71875 45.5625 \r\nQ 45.3125 48.734375 45.3125 54.390625 \r\nQ 45.3125 60.0625 41.71875 63.234375 \r\nQ 38.140625 66.40625 31.78125 66.40625 \r\nQ 25.390625 66.40625 21.84375 63.234375 \r\nQ 18.3125 60.0625 18.3125 54.390625 \r\nz\r\n\" id=\"DejaVuSans-56\"/>\r\n      </defs>\r\n      <g transform=\"translate(7.2 14.798437)scale(0.1 -0.1)\">\r\n       <use xlink:href=\"#DejaVuSans-48\"/>\r\n       <use x=\"63.623047\" xlink:href=\"#DejaVuSans-46\"/>\r\n       <use x=\"95.410156\" xlink:href=\"#DejaVuSans-56\"/>\r\n      </g>\r\n     </g>\r\n    </g>\r\n   </g>\r\n   <g id=\"patch_3\">\r\n    <path d=\"M 30.103125 226.857378 \r\nL 30.103125 9.417378 \r\n\" style=\"fill:none;stroke:#000000;stroke-linecap:square;stroke-linejoin:miter;stroke-width:0.8;\"/>\r\n   </g>\r\n   <g id=\"patch_4\">\r\n    <path d=\"M 364.903125 226.857378 \r\nL 364.903125 9.417378 \r\n\" style=\"fill:none;stroke:#000000;stroke-linecap:square;stroke-linejoin:miter;stroke-width:0.8;\"/>\r\n   </g>\r\n   <g id=\"patch_5\">\r\n    <path d=\"M 30.103125 226.857378 \r\nL 364.903125 226.857378 \r\n\" style=\"fill:none;stroke:#000000;stroke-linecap:square;stroke-linejoin:miter;stroke-width:0.8;\"/>\r\n   </g>\r\n   <g id=\"patch_6\">\r\n    <path d=\"M 30.103125 9.417378 \r\nL 364.903125 9.417378 \r\n\" style=\"fill:none;stroke:#000000;stroke-linecap:square;stroke-linejoin:miter;stroke-width:0.8;\"/>\r\n   </g>\r\n  </g>\r\n </g>\r\n <defs>\r\n  <clipPath id=\"pdb6fab55de\">\r\n   <rect height=\"217.44\" width=\"334.8\" x=\"30.103125\" y=\"9.417378\"/>\r\n  </clipPath>\r\n </defs>\r\n</svg>\r\n",
      "image/png": "[encoded data removed]"
     },
     "metadata": {
      "needs_background": "light"
     }
    },
    {
     "output_type": "execute_result",
     "data": {
      "text/plain": [
       "array([7.53403036e-01, 1.85786901e-01, 4.58144858e-02, 1.12977131e-02,\n",
       "       2.78598175e-03, 6.87014641e-04, 1.69415725e-04, 4.17774034e-05,\n",
       "       1.03021808e-05, 2.54048652e-06, 6.26476262e-07, 1.54487144e-07,\n",
       "       3.80960607e-08, 9.39437291e-09, 2.31662384e-09, 5.71272405e-10,\n",
       "       1.40874041e-10, 3.47391107e-11, 8.56655923e-12])"
      ]
     },
     "metadata": {},
     "execution_count": 48
    }
   ],
   "source": [
    "import matplotlib.pyplot as plt\n",
    "p = boltzmann.pmf(range(19), 1.4, 19)\n",
    "plt.scatter(range(19), p)\n",
    "plt.show()\n",
    "p"
   ]
  },
  {
   "cell_type": "code",
   "execution_count": 64,
   "metadata": {},
   "outputs": [
    {
     "output_type": "execute_result",
     "data": {
      "text/plain": [
       "array([1.88388291, 1.64075713, 1.77778214, 1.44796849, 0.98946874,\n",
       "       0.96812007, 0.7252841 , 2.16844864, 2.28261544, 2.01210381,\n",
       "       0.85823114, 1.12337445, 1.34407676, 1.7822889 , 0.4868644 ,\n",
       "       0.88417249, 2.88689218, 2.43382338, 0.69614545, 0.97924615,\n",
       "       3.14390869, 1.8992795 , 1.5213485 , 2.42187131, 1.1709884 ,\n",
       "       1.61152595, 0.62910596, 0.68556369, 1.15314526, 2.0018185 ,\n",
       "       0.92188346, 1.88263072, 1.35311493, 1.30920174, 2.44739396,\n",
       "       2.76809476, 1.35566891, 2.6689048 , 2.09846485, 1.56712468,\n",
       "       1.43255641, 1.22640643, 0.87730755, 2.03440988, 0.61328766,\n",
       "       1.59736401, 1.68055986, 0.82806885, 2.52591148, 1.61897563,\n",
       "       1.99017664, 2.07214141, 0.94186306, 1.11213116, 1.8918939 ,\n",
       "       1.37942039, 1.83500418, 1.24547454, 1.70586826, 2.12983486,\n",
       "       1.17263342, 1.70250552, 3.37062355, 1.53587123, 1.46323725,\n",
       "       2.4826656 , 0.82732711, 3.65234473, 2.57834229, 2.01857182,\n",
       "       1.25962017, 1.99932329, 2.43763698, 1.4647596 , 0.69679155,\n",
       "       1.58973768, 1.25480717, 1.79568691, 1.71766625, 0.61237819,\n",
       "       1.24503081, 1.34242218, 2.35562503, 3.62422109, 0.81838947,\n",
       "       1.28661658, 1.71583443, 1.9762084 , 0.73609519, 1.64647941,\n",
       "       1.23754198, 1.33713666, 2.26676691, 0.37681757, 1.75779942,\n",
       "       0.28954782, 2.16474753, 1.67989157, 1.07947672, 1.32883216,\n",
       "       1.48110594, 1.14667046, 2.1600493 , 1.71362365, 2.23883444,\n",
       "       1.44322275, 0.79396563, 0.53945369, 1.01030463, 1.66946365,\n",
       "       1.23787649, 1.69143125, 3.31867766, 1.78912146, 1.08495299,\n",
       "       1.10847186, 1.84807345, 1.69801123, 1.71947873, 1.15150536,\n",
       "       1.24389605, 1.12948617, 1.71517934, 0.83686691, 0.58511237,\n",
       "       1.61443833, 0.86180387, 0.62280839, 1.78157608, 2.01727212,\n",
       "       0.9410455 , 1.40305114, 1.55962516, 1.29334354, 0.31154662,\n",
       "       1.17319903, 0.87553962, 1.21513885, 2.32587465, 1.92947982,\n",
       "       1.00223159, 2.01361121, 1.00919496, 0.98811494, 2.67099003,\n",
       "       1.51165541, 0.89294342, 0.66950277, 3.23858188, 1.66555597,\n",
       "       1.21799129, 1.95755711, 1.91097733, 1.8172637 , 0.30254076,\n",
       "       1.31026089, 1.58189776, 1.45361358, 0.62433153, 3.31936523,\n",
       "       1.07101778, 1.32206186, 2.09511237, 1.00009386, 1.74654664,\n",
       "       0.61169205, 2.18350232, 1.23392984, 3.06318391, 1.82908401,\n",
       "       1.46453922, 1.31189326, 0.76203816, 2.25391856, 1.62827612,\n",
       "       1.17750945, 1.60399997, 1.4002362 , 1.45219664, 2.47242325,\n",
       "       0.8248447 , 1.25969092, 1.45968976, 3.0500025 , 1.12863215,\n",
       "       0.43859338, 1.35993571, 2.10659593, 1.37099229, 2.51792284,\n",
       "       2.9924306 , 2.88232757, 1.44127041, 1.12736913, 0.69688019,\n",
       "       1.74073351, 1.27104971, 1.05584428, 1.21344145, 0.27725426,\n",
       "       2.10377001, 1.31398791, 0.68276958, 1.26707767, 3.62165825,\n",
       "       1.35921414, 1.75071401, 1.60512883, 1.14132393, 1.24574873,\n",
       "       2.44719586, 2.33306706, 3.57782236, 2.32466202, 1.35188037,\n",
       "       2.62163948, 1.4089091 , 2.34894411, 0.73051538, 1.98343165,\n",
       "       1.31173163, 0.65484938, 1.13841005, 2.04682379, 1.60029297,\n",
       "       1.5574792 , 2.03208247, 2.61614764, 1.4679648 , 1.02529997,\n",
       "       1.0176854 , 1.67810206, 1.0120496 , 2.81075827, 1.71741191,\n",
       "       1.64969395, 1.35264301, 1.61938292, 1.2934317 , 0.38979982,\n",
       "       1.63853907, 1.29411234, 1.34477357, 1.85009176, 1.40544165,\n",
       "       1.5793338 , 1.27365905, 1.53287516, 0.76950961, 1.86597778,\n",
       "       2.4576853 , 1.69559926, 1.51744246, 0.90253476, 1.35702688,\n",
       "       1.73156431, 1.36628662, 1.16382839, 3.04938222, 1.44231582,\n",
       "       2.40235075, 0.53046762, 1.82475582, 1.90728205, 1.17516905,\n",
       "       0.62271182, 1.41338885, 1.42128941, 1.58003573, 1.02050503,\n",
       "       0.55663053, 1.51410717, 1.51323471, 2.96981306, 1.61225812,\n",
       "       1.90085926, 0.38328562, 1.65961721, 1.74923905, 0.92002924,\n",
       "       1.20641676, 0.32521737, 1.43337907, 1.27458392, 2.62690129,\n",
       "       1.98181284, 0.8553498 , 2.5829759 , 1.61772683, 1.57181278,\n",
       "       1.1097762 , 2.68066713, 1.45842665, 1.55202437, 2.16947465,\n",
       "       0.59019352, 1.64208345, 1.65906745, 1.46911487, 1.15689452,\n",
       "       1.52344688, 0.79113979, 1.83797914, 1.44895618, 1.15406374,\n",
       "       1.61364112, 1.35700283, 2.35073643, 2.00421915, 0.52650022,\n",
       "       3.0483685 , 1.43424221, 0.31301179, 0.81336243, 1.10968399,\n",
       "       1.91384085, 1.42398802, 0.40107265, 1.50119109, 1.9636083 ,\n",
       "       1.19366889, 1.25427072, 2.2183352 , 1.22362032, 1.58498122,\n",
       "       1.40841661, 1.28100696, 1.23492927, 0.46022562, 2.84948811,\n",
       "       1.59406157, 1.3163613 , 3.03877566, 1.48320735, 1.77774164,\n",
       "       1.35497019, 1.26613005, 1.59800213, 1.71325585, 2.11635294,\n",
       "       2.29449351, 3.11916481, 0.6443954 , 1.28096166, 0.67884005,\n",
       "       2.31437566, 3.57240844, 0.84856549, 1.52139251, 1.51530475,\n",
       "       1.5435511 , 2.12644291, 2.78674139, 1.88393338, 0.78384575,\n",
       "       2.01447364, 2.8705274 , 0.18663176, 1.2908165 , 1.40482943,\n",
       "       1.41655964, 2.13808972, 0.59146858, 1.90558841, 1.5541508 ,\n",
       "       3.25719855, 0.52205641, 0.81559311, 3.03544724, 2.61722086,\n",
       "       1.07500596, 1.9252433 , 1.82664794, 1.468373  , 2.49197925,\n",
       "       2.03327734, 3.59072197, 0.91055295, 0.87404572, 1.59464311,\n",
       "       1.77256113, 1.73356512, 1.26513133, 2.5579313 , 1.1163749 ,\n",
       "       1.26679509, 1.18379416, 2.77306496, 1.42673533, 2.26368187,\n",
       "       1.67862427, 2.6415516 , 1.94057205, 1.23641663, 3.02674941,\n",
       "       2.32739165, 0.80640715, 1.84466016, 2.59533099, 1.40044823,\n",
       "       0.86596621, 1.35811366, 3.11914912, 2.59347113, 0.45820906,\n",
       "       1.50133818, 1.34762675, 2.70896385, 1.92014224, 2.87036311,\n",
       "       2.31489295, 2.3697709 , 0.98005855, 1.84166688, 1.45831665,\n",
       "       1.36179682, 1.28485327, 1.00149732, 1.81558162, 1.45593147,\n",
       "       2.17784726, 0.46242857, 1.209145  , 0.95602391, 2.3538434 ,\n",
       "       1.33072303, 0.59605415, 1.24967191, 0.77934965, 1.54729728,\n",
       "       0.48012228, 1.52868016, 1.05922763, 0.77794709, 0.95611513,\n",
       "       1.48269956, 2.35492058, 1.93864399, 2.60155803, 0.7571114 ,\n",
       "       0.94029032, 0.7194592 , 1.11694759, 0.9790977 , 2.55010471,\n",
       "       1.20481015, 1.76753155, 1.22625363, 2.28322304, 3.33333564,\n",
       "       1.98790526, 1.33957017, 1.46907302, 1.15296567, 1.54451696,\n",
       "       1.81356971, 1.64287282, 1.98577263, 1.7651161 , 1.44073238,\n",
       "       1.99028521, 2.33328017, 1.22609439, 2.37042215, 1.27109405,\n",
       "       2.18854211, 2.39380656, 1.3312586 , 2.44586675, 1.18940182,\n",
       "       1.92526728, 1.3509523 , 1.55517646, 1.453288  , 2.7470376 ,\n",
       "       1.62606557, 3.01958446, 2.06580161, 1.83775857, 0.86719092,\n",
       "       1.20723076, 3.74114256, 1.37442082, 2.50491033, 1.92918164,\n",
       "       3.54184553, 1.78982149, 1.51885877, 2.10089429, 2.01321888,\n",
       "       1.8374432 , 1.50332773, 2.19593043, 1.98554881, 1.30476888,\n",
       "       1.29872887, 1.41356678, 1.96196815, 2.04028573, 1.44929839,\n",
       "       1.03876204, 1.47401192, 1.27097928, 2.49698121, 1.12733286,\n",
       "       1.85002299, 1.75622142, 1.01808898, 1.57903978, 0.83763393,\n",
       "       1.33277425, 2.13546062, 2.16809002, 0.85190626, 1.37960342,\n",
       "       2.16269656, 1.42867582, 1.04388852, 1.16060688, 1.0790002 ,\n",
       "       1.4214753 , 2.77197684, 1.36374712, 0.31733943, 1.47263791,\n",
       "       1.12126509, 1.05695213, 1.10061063, 2.48851867, 0.52865342,\n",
       "       0.81548746, 1.82207084, 2.74933389, 0.88018691, 1.0549617 ,\n",
       "       1.3558513 , 1.85770723, 1.64775863, 1.66656211, 1.34697013,\n",
       "       1.47076375, 2.04393856, 1.53404771, 1.02140547, 1.2086051 ,\n",
       "       1.28221766, 1.3526962 , 1.66891385, 0.28012782, 0.88702214,\n",
       "       1.21799563, 2.11447706, 1.79947796, 1.35450294, 0.71235791,\n",
       "       2.28445456, 1.57152789, 1.61623018, 0.7888045 , 1.69873919,\n",
       "       2.13819967, 2.70856463, 3.64180221, 1.49372994, 2.4224237 ,\n",
       "       1.12769517, 1.24488174, 0.5798302 , 0.87346855, 0.77628583,\n",
       "       2.05116454, 1.88126391, 2.02677244, 2.30620028, 1.19119492,\n",
       "       1.97000956, 2.06969143, 0.41782319, 0.58600629, 0.72286042,\n",
       "       1.6832018 , 1.38342711, 1.70524669, 0.77591247, 2.10359831,\n",
       "       0.94821582, 2.67388479, 2.4814399 , 0.89100836, 2.04361095,\n",
       "       2.32862549, 1.14238115, 1.22995281, 1.58535782, 0.87463812,\n",
       "       2.2733166 , 1.98290324, 2.82167802, 1.19087177, 1.58634069,\n",
       "       0.47678178, 1.60265751, 0.90318902, 2.06446141, 0.35819054,\n",
       "       1.85045842, 2.21802484, 1.13840963, 1.14419706, 1.44342425,\n",
       "       0.98685713, 2.50133489, 1.91288337, 0.64873613, 2.54682443,\n",
       "       1.84129844, 0.77875005, 1.38883193, 1.5219653 , 1.01922648,\n",
       "       1.91878923, 1.23602157, 0.9074715 , 1.26631716, 2.48283838,\n",
       "       1.26732483, 1.92990286, 0.65135495, 1.49675324, 2.6260562 ,\n",
       "       2.46402101, 2.46973127, 1.74407018, 2.59930467, 2.19020319,\n",
       "       2.32660874, 1.33448079, 1.61037606, 0.84726338, 0.69637334,\n",
       "       0.98739621, 2.06376394, 1.52804408, 1.43006406, 0.8692068 ,\n",
       "       0.92106748, 0.85178736, 1.45068755, 1.82032806, 1.68955857,\n",
       "       0.65155088, 1.74345261, 2.08892824, 1.93383069, 1.50058375,\n",
       "       1.15402797, 2.72870069, 2.71653612, 1.53066993, 1.18152443,\n",
       "       2.11659182, 1.94323787, 1.04220568, 1.93642292, 2.96989146,\n",
       "       1.27821806, 1.97042556, 2.1168289 , 1.30273432, 0.83650983,\n",
       "       2.63198232, 2.85051363, 1.05730741, 2.3172138 , 1.82606775,\n",
       "       1.33749826, 2.77539511, 1.69028387, 2.07554679, 0.8556891 ,\n",
       "       1.61520772, 1.75202749, 1.75730506, 1.39769082, 2.11172399,\n",
       "       1.83168272, 0.5892933 , 2.738697  , 2.65245528, 1.82725545,\n",
       "       2.1012803 , 1.56681208, 0.94958893, 1.46308974, 1.18624737,\n",
       "       2.53541788, 2.1612632 , 1.21680703, 1.67827476, 1.47552719,\n",
       "       3.37652225, 1.48517998, 0.77697555, 1.35066145, 0.38655362,\n",
       "       0.81434618, 0.78042221, 1.74036624, 1.86037706, 1.77381884,\n",
       "       2.12297277, 2.38589374, 1.75188546, 1.50684631, 0.72427814,\n",
       "       2.03308513, 2.07586636, 0.94582593, 0.60663627, 1.91276755,\n",
       "       1.04700189, 0.89887225, 0.87598884, 1.31847289, 1.31716179,\n",
       "       0.82661533, 3.45419988, 1.52293509, 1.15897442, 2.14975805,\n",
       "       1.90112628, 1.53773639, 1.05156912, 2.61140426, 1.66793911,\n",
       "       2.30826498, 1.13891978, 1.6284975 , 1.13012717, 0.69123226,\n",
       "       2.24251996, 0.75943687, 0.87270955, 1.1106609 , 1.02690803,\n",
       "       1.31590068, 1.43483776, 2.04091543, 2.10060852, 1.67447895])"
      ]
     },
     "metadata": {},
     "execution_count": 64
    }
   ],
   "source": [
    "import scipy.stats as stats\n",
    "import matplotlib.pyplot as plt\n",
    "import numpy as np\n",
    "\n",
    "maxwell = stats.maxwell\n",
    "data = maxwell.rvs(loc=0, scale=1, size=10000)\n",
    "params = maxwell.fit(data, floc=0)\n",
    "\n",
    "velocities = maxwell.rvs(*params, size=750)\n",
    "velocities"
   ]
  }
 ]
}